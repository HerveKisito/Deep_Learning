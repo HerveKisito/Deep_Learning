{
 "cells": [
  {
   "cell_type": "markdown",
   "metadata": {
    "colab_type": "text",
    "id": "lP6JLo1tGNBg"
   },
   "source": [
    "# Artificial Neural Network"
   ]
  },
  {
   "cell_type": "markdown",
   "metadata": {
    "colab_type": "text",
    "id": "gWZyYmS_UE_L"
   },
   "source": [
    "### 1. Importing the libraries"
   ]
  },
  {
   "cell_type": "code",
   "execution_count": 1,
   "metadata": {
    "colab": {},
    "colab_type": "code",
    "id": "MxkJoQBkUIHC"
   },
   "outputs": [],
   "source": [
    "import numpy as np\n",
    "import pandas as pd\n",
    "import tensorflow as tf\n",
    "from sklearn.preprocessing import LabelEncoder\n",
    "from sklearn.compose import ColumnTransformer\n",
    "from sklearn.preprocessing import OneHotEncoder\n",
    "from sklearn.preprocessing import StandardScaler\n",
    "from sklearn.model_selection import train_test_split\n",
    "from sklearn.metrics import confusion_matrix"
   ]
  },
  {
   "cell_type": "code",
   "execution_count": 2,
   "metadata": {
    "colab": {
     "base_uri": "https://localhost:8080/",
     "height": 34
    },
    "colab_type": "code",
    "executionInfo": {
     "elapsed": 2787,
     "status": "ok",
     "timestamp": 1586428376540,
     "user": {
      "displayName": "Hadelin de Ponteves",
      "photoUrl": "https://lh3.googleusercontent.com/a-/AOh14GhEuXdT7eQweUmRPW8_laJuPggSK6hfvpl5a6WBaA=s64",
      "userId": "15047218817161520419"
     },
     "user_tz": -240
    },
    "id": "ZaTwK7ojXr2F",
    "outputId": "9991cc2b-cd5d-4e1e-c681-d32b9f4faa9a"
   },
   "outputs": [
    {
     "data": {
      "text/plain": [
       "'1.14.0'"
      ]
     },
     "execution_count": 2,
     "metadata": {},
     "output_type": "execute_result"
    }
   ],
   "source": [
    "tf.__version__"
   ]
  },
  {
   "cell_type": "markdown",
   "metadata": {
    "colab_type": "text",
    "id": "1E0Q3aoKUCRX"
   },
   "source": [
    "## 2. Data Preprocessing"
   ]
  },
  {
   "cell_type": "markdown",
   "metadata": {
    "colab_type": "text",
    "id": "cKWAkFVGUU0Z"
   },
   "source": [
    "#### 2.1.  Importing the dataset"
   ]
  },
  {
   "cell_type": "code",
   "execution_count": 3,
   "metadata": {
    "colab": {},
    "colab_type": "code",
    "id": "MXUkhkMfU4wq"
   },
   "outputs": [],
   "source": [
    "dataset = pd.read_csv('../data/Churn_Modelling.csv')\n",
    "X = dataset.iloc[:, 3:-1].values\n",
    "y = dataset.iloc[:, -1].values"
   ]
  },
  {
   "cell_type": "code",
   "execution_count": 4,
   "metadata": {
    "colab": {
     "base_uri": "https://localhost:8080/",
     "height": 134
    },
    "colab_type": "code",
    "executionInfo": {
     "elapsed": 2782,
     "status": "ok",
     "timestamp": 1586428376541,
     "user": {
      "displayName": "Hadelin de Ponteves",
      "photoUrl": "https://lh3.googleusercontent.com/a-/AOh14GhEuXdT7eQweUmRPW8_laJuPggSK6hfvpl5a6WBaA=s64",
      "userId": "15047218817161520419"
     },
     "user_tz": -240
    },
    "id": "VYP9cQTWbzuI",
    "outputId": "38e3588f-f2e3-436b-bdc5-2967d495155c"
   },
   "outputs": [
    {
     "name": "stdout",
     "output_type": "stream",
     "text": [
      "[[619 'France' 'Female' ... 1 1 101348.88]\n",
      " [608 'Spain' 'Female' ... 0 1 112542.58]\n",
      " [502 'France' 'Female' ... 1 0 113931.57]\n",
      " ...\n",
      " [709 'France' 'Female' ... 0 1 42085.58]\n",
      " [772 'Germany' 'Male' ... 1 0 92888.52]\n",
      " [792 'France' 'Female' ... 1 0 38190.78]]\n"
     ]
    }
   ],
   "source": [
    "print(X)"
   ]
  },
  {
   "cell_type": "code",
   "execution_count": 5,
   "metadata": {
    "colab": {
     "base_uri": "https://localhost:8080/",
     "height": 34
    },
    "colab_type": "code",
    "executionInfo": {
     "elapsed": 2780,
     "status": "ok",
     "timestamp": 1586428376541,
     "user": {
      "displayName": "Hadelin de Ponteves",
      "photoUrl": "https://lh3.googleusercontent.com/a-/AOh14GhEuXdT7eQweUmRPW8_laJuPggSK6hfvpl5a6WBaA=s64",
      "userId": "15047218817161520419"
     },
     "user_tz": -240
    },
    "id": "38vKGE6Nb2RR",
    "outputId": "2abeb945-135e-460f-99e9-9967abe198d1"
   },
   "outputs": [
    {
     "name": "stdout",
     "output_type": "stream",
     "text": [
      "[1 0 1 ... 1 1 0]\n"
     ]
    }
   ],
   "source": [
    "print(y)"
   ]
  },
  {
   "cell_type": "markdown",
   "metadata": {
    "colab_type": "text",
    "id": "N6bQ0UgSU-NJ"
   },
   "source": [
    "#### 2.2. Encoding categorical data"
   ]
  },
  {
   "cell_type": "markdown",
   "metadata": {
    "colab_type": "text",
    "id": "le5MJreAbW52"
   },
   "source": [
    "Label Encoding the \"Gender\" column"
   ]
  },
  {
   "cell_type": "code",
   "execution_count": 6,
   "metadata": {
    "colab": {},
    "colab_type": "code",
    "id": "PxVKWXxLbczC"
   },
   "outputs": [],
   "source": [
    "le = LabelEncoder()\n",
    "X[:, 2] = le.fit_transform(X[:, 2])"
   ]
  },
  {
   "cell_type": "code",
   "execution_count": 7,
   "metadata": {
    "colab": {
     "base_uri": "https://localhost:8080/",
     "height": 134
    },
    "colab_type": "code",
    "executionInfo": {
     "elapsed": 2775,
     "status": "ok",
     "timestamp": 1586428376542,
     "user": {
      "displayName": "Hadelin de Ponteves",
      "photoUrl": "https://lh3.googleusercontent.com/a-/AOh14GhEuXdT7eQweUmRPW8_laJuPggSK6hfvpl5a6WBaA=s64",
      "userId": "15047218817161520419"
     },
     "user_tz": -240
    },
    "id": "-M1KboxFb6OO",
    "outputId": "c7b742e2-7afb-4fb9-c6b4-ffeb3c4812f1"
   },
   "outputs": [
    {
     "name": "stdout",
     "output_type": "stream",
     "text": [
      "[[619 'France' 0 ... 1 1 101348.88]\n",
      " [608 'Spain' 0 ... 0 1 112542.58]\n",
      " [502 'France' 0 ... 1 0 113931.57]\n",
      " ...\n",
      " [709 'France' 0 ... 0 1 42085.58]\n",
      " [772 'Germany' 1 ... 1 0 92888.52]\n",
      " [792 'France' 0 ... 1 0 38190.78]]\n"
     ]
    }
   ],
   "source": [
    "print(X)"
   ]
  },
  {
   "cell_type": "markdown",
   "metadata": {
    "colab_type": "text",
    "id": "CUxGZezpbMcb"
   },
   "source": [
    "One Hot Encoding the \"Geography\" column"
   ]
  },
  {
   "cell_type": "code",
   "execution_count": 8,
   "metadata": {
    "colab": {},
    "colab_type": "code",
    "id": "AMXC8-KMVirw"
   },
   "outputs": [],
   "source": [
    "ct = ColumnTransformer(transformers=[('encoder', OneHotEncoder(), [1])], remainder='passthrough')\n",
    "X = np.array(ct.fit_transform(X))"
   ]
  },
  {
   "cell_type": "code",
   "execution_count": 9,
   "metadata": {
    "colab": {
     "base_uri": "https://localhost:8080/",
     "height": 134
    },
    "colab_type": "code",
    "executionInfo": {
     "elapsed": 2768,
     "status": "ok",
     "timestamp": 1586428376543,
     "user": {
      "displayName": "Hadelin de Ponteves",
      "photoUrl": "https://lh3.googleusercontent.com/a-/AOh14GhEuXdT7eQweUmRPW8_laJuPggSK6hfvpl5a6WBaA=s64",
      "userId": "15047218817161520419"
     },
     "user_tz": -240
    },
    "id": "ZcxwEon-b8nV",
    "outputId": "9c88c069-f799-4e3b-be4b-24d8e17611fd"
   },
   "outputs": [
    {
     "name": "stdout",
     "output_type": "stream",
     "text": [
      "[[1.0 0.0 0.0 ... 1 1 101348.88]\n",
      " [0.0 0.0 1.0 ... 0 1 112542.58]\n",
      " [1.0 0.0 0.0 ... 1 0 113931.57]\n",
      " ...\n",
      " [1.0 0.0 0.0 ... 0 1 42085.58]\n",
      " [0.0 1.0 0.0 ... 1 0 92888.52]\n",
      " [1.0 0.0 0.0 ... 1 0 38190.78]]\n"
     ]
    }
   ],
   "source": [
    "print(X)"
   ]
  },
  {
   "cell_type": "markdown",
   "metadata": {
    "colab_type": "text",
    "id": "RE_FcHyfV3TQ"
   },
   "source": [
    "#### 2.3. Feature Scaling"
   ]
  },
  {
   "cell_type": "code",
   "execution_count": 10,
   "metadata": {
    "colab": {},
    "colab_type": "code",
    "id": "ViCrE00rV8Sk"
   },
   "outputs": [
    {
     "name": "stderr",
     "output_type": "stream",
     "text": [
      "/gpfs/user/u555116/brc01/aim00/.venv3/lib/python3.6/site-packages/sklearn/utils/validation.py:595: DataConversionWarning: Data with input dtype object was converted to float64 by StandardScaler.\n",
      "  warnings.warn(msg, DataConversionWarning)\n",
      "/gpfs/user/u555116/brc01/aim00/.venv3/lib/python3.6/site-packages/sklearn/utils/validation.py:595: DataConversionWarning: Data with input dtype object was converted to float64 by StandardScaler.\n",
      "  warnings.warn(msg, DataConversionWarning)\n"
     ]
    }
   ],
   "source": [
    "sc = StandardScaler()\n",
    "X = sc.fit_transform(X)"
   ]
  },
  {
   "cell_type": "code",
   "execution_count": 11,
   "metadata": {
    "colab": {
     "base_uri": "https://localhost:8080/",
     "height": 235
    },
    "colab_type": "code",
    "executionInfo": {
     "elapsed": 2760,
     "status": "ok",
     "timestamp": 1586428376544,
     "user": {
      "displayName": "Hadelin de Ponteves",
      "photoUrl": "https://lh3.googleusercontent.com/a-/AOh14GhEuXdT7eQweUmRPW8_laJuPggSK6hfvpl5a6WBaA=s64",
      "userId": "15047218817161520419"
     },
     "user_tz": -240
    },
    "id": "De3UsJwXdfMz",
    "outputId": "dde0e114-7250-42b5-d54d-047faebba5e1"
   },
   "outputs": [
    {
     "name": "stdout",
     "output_type": "stream",
     "text": [
      "[[ 0.99720391 -0.57873591 -0.57380915 ...  0.64609167  0.97024255\n",
      "   0.02188649]\n",
      " [-1.00280393 -0.57873591  1.74273971 ... -1.54776799  0.97024255\n",
      "   0.21653375]\n",
      " [ 0.99720391 -0.57873591 -0.57380915 ...  0.64609167 -1.03067011\n",
      "   0.2406869 ]\n",
      " ...\n",
      " [ 0.99720391 -0.57873591 -0.57380915 ... -1.54776799  0.97024255\n",
      "  -1.00864308]\n",
      " [-1.00280393  1.72790383 -0.57380915 ...  0.64609167 -1.03067011\n",
      "  -0.12523071]\n",
      " [ 0.99720391 -0.57873591 -0.57380915 ...  0.64609167 -1.03067011\n",
      "  -1.07636976]]\n"
     ]
    }
   ],
   "source": [
    "print(X)"
   ]
  },
  {
   "cell_type": "markdown",
   "metadata": {
    "colab_type": "text",
    "id": "vHol938cW8zd"
   },
   "source": [
    "#### 2.3. Splitting the dataset into the Training set and Test set"
   ]
  },
  {
   "cell_type": "code",
   "execution_count": 12,
   "metadata": {
    "colab": {},
    "colab_type": "code",
    "id": "Z-TDt0Y_XEfc"
   },
   "outputs": [],
   "source": [
    "X_train, X_test, y_train, y_test = train_test_split(X, y, test_size = 0.2, random_state = 0)"
   ]
  },
  {
   "cell_type": "markdown",
   "metadata": {
    "colab_type": "text",
    "id": "-zfEzkRVXIwF"
   },
   "source": [
    "## 3. Building the ANN"
   ]
  },
  {
   "cell_type": "markdown",
   "metadata": {
    "colab_type": "text",
    "id": "KvdeScabXtlB"
   },
   "source": [
    "#### 3.1. Initializing the ANN"
   ]
  },
  {
   "cell_type": "code",
   "execution_count": 13,
   "metadata": {
    "colab": {},
    "colab_type": "code",
    "id": "3dtrScHxXQox"
   },
   "outputs": [],
   "source": [
    "ann = tf.keras.models.Sequential()"
   ]
  },
  {
   "cell_type": "markdown",
   "metadata": {
    "colab_type": "text",
    "id": "rP6urV6SX7kS"
   },
   "source": [
    "#### 3.2. Adding the input layer and the first hidden layer"
   ]
  },
  {
   "cell_type": "code",
   "execution_count": 14,
   "metadata": {
    "colab": {},
    "colab_type": "code",
    "id": "bppGycBXYCQr"
   },
   "outputs": [
    {
     "name": "stderr",
     "output_type": "stream",
     "text": [
      "WARNING: Logging before flag parsing goes to stderr.\n",
      "W0505 12:41:11.027482 140296187451200 deprecation.py:506] From /gpfs/user/u555116/brc01/aim00/.venv3/lib/python3.6/site-packages/tensorflow/python/ops/init_ops.py:1251: calling VarianceScaling.__init__ (from tensorflow.python.ops.init_ops) with dtype is deprecated and will be removed in a future version.\n",
      "Instructions for updating:\n",
      "Call initializer instance with the dtype argument instead of passing it to the constructor\n"
     ]
    }
   ],
   "source": [
    "ann.add(tf.keras.layers.Dense(units=6, activation='relu'))"
   ]
  },
  {
   "cell_type": "markdown",
   "metadata": {
    "colab_type": "text",
    "id": "BELWAc_8YJze"
   },
   "source": [
    "#### 3.3. Adding the second hidden layer"
   ]
  },
  {
   "cell_type": "code",
   "execution_count": 15,
   "metadata": {
    "colab": {},
    "colab_type": "code",
    "id": "JneR0u0sYRTd"
   },
   "outputs": [],
   "source": [
    "ann.add(tf.keras.layers.Dense(units=6, activation='relu'))"
   ]
  },
  {
   "cell_type": "markdown",
   "metadata": {
    "colab_type": "text",
    "id": "OyNEe6RXYcU4"
   },
   "source": [
    "#### 3.4. Adding the output layer"
   ]
  },
  {
   "cell_type": "code",
   "execution_count": 16,
   "metadata": {
    "colab": {},
    "colab_type": "code",
    "id": "Cn3x41RBYfvY"
   },
   "outputs": [],
   "source": [
    "ann.add(tf.keras.layers.Dense(units=1, activation='sigmoid'))"
   ]
  },
  {
   "cell_type": "markdown",
   "metadata": {
    "colab_type": "text",
    "id": "JT4u2S1_Y4WG"
   },
   "source": [
    "## 4. Training the ANN"
   ]
  },
  {
   "cell_type": "markdown",
   "metadata": {
    "colab_type": "text",
    "id": "8GWlJChhY_ZI"
   },
   "source": [
    "#### 4.1. Compiling the ANN"
   ]
  },
  {
   "cell_type": "code",
   "execution_count": 17,
   "metadata": {
    "colab": {},
    "colab_type": "code",
    "id": "fG3RrwDXZEaS"
   },
   "outputs": [],
   "source": [
    "ann.compile(optimizer = 'adam', loss = 'binary_crossentropy', metrics = ['accuracy'])"
   ]
  },
  {
   "cell_type": "markdown",
   "metadata": {
    "colab_type": "text",
    "id": "0QR_G5u7ZLSM"
   },
   "source": [
    "#### 4.2. Training the ANN on the Training set"
   ]
  },
  {
   "cell_type": "code",
   "execution_count": 18,
   "metadata": {
    "colab": {
     "base_uri": "https://localhost:8080/",
     "height": 1000
    },
    "colab_type": "code",
    "executionInfo": {
     "elapsed": 31750,
     "status": "ok",
     "timestamp": 1586428405580,
     "user": {
      "displayName": "Hadelin de Ponteves",
      "photoUrl": "https://lh3.googleusercontent.com/a-/AOh14GhEuXdT7eQweUmRPW8_laJuPggSK6hfvpl5a6WBaA=s64",
      "userId": "15047218817161520419"
     },
     "user_tz": -240
    },
    "id": "nHZ-LKv_ZRb3",
    "outputId": "6a90f176-803d-4b03-e65f-c05bda6f519c",
    "scrolled": true
   },
   "outputs": [
    {
     "name": "stderr",
     "output_type": "stream",
     "text": [
      "W0505 12:41:13.595120 140296187451200 deprecation.py:323] From /gpfs/user/u555116/brc01/aim00/.venv3/lib/python3.6/site-packages/tensorflow/python/ops/nn_impl.py:180: add_dispatch_support.<locals>.wrapper (from tensorflow.python.ops.array_ops) is deprecated and will be removed in a future version.\n",
      "Instructions for updating:\n",
      "Use tf.where in 2.0, which has the same broadcast rule as np.where\n"
     ]
    },
    {
     "name": "stdout",
     "output_type": "stream",
     "text": [
      "Epoch 1/100\n",
      "8000/8000 [==============================] - 0s 52us/sample - loss: 0.6352 - acc: 0.6881\n",
      "Epoch 2/100\n",
      "8000/8000 [==============================] - 0s 33us/sample - loss: 0.4771 - acc: 0.7960\n",
      "Epoch 3/100\n",
      "8000/8000 [==============================] - 0s 32us/sample - loss: 0.4430 - acc: 0.7979\n",
      "Epoch 4/100\n",
      "8000/8000 [==============================] - 0s 31us/sample - loss: 0.4262 - acc: 0.8101\n",
      "Epoch 5/100\n",
      "8000/8000 [==============================] - 0s 31us/sample - loss: 0.4135 - acc: 0.8217\n",
      "Epoch 6/100\n",
      "8000/8000 [==============================] - 0s 30us/sample - loss: 0.4024 - acc: 0.8265\n",
      "Epoch 7/100\n",
      "8000/8000 [==============================] - 0s 30us/sample - loss: 0.3897 - acc: 0.8364\n",
      "Epoch 8/100\n",
      "8000/8000 [==============================] - 0s 31us/sample - loss: 0.3770 - acc: 0.8445\n",
      "Epoch 9/100\n",
      "8000/8000 [==============================] - 0s 32us/sample - loss: 0.3674 - acc: 0.8495\n",
      "Epoch 10/100\n",
      "8000/8000 [==============================] - 0s 32us/sample - loss: 0.3603 - acc: 0.8531\n",
      "Epoch 11/100\n",
      "8000/8000 [==============================] - 0s 30us/sample - loss: 0.3551 - acc: 0.8536\n",
      "Epoch 12/100\n",
      "8000/8000 [==============================] - 0s 31us/sample - loss: 0.3520 - acc: 0.8547\n",
      "Epoch 13/100\n",
      "8000/8000 [==============================] - 0s 31us/sample - loss: 0.3483 - acc: 0.8570\n",
      "Epoch 14/100\n",
      "8000/8000 [==============================] - 0s 31us/sample - loss: 0.3474 - acc: 0.8595\n",
      "Epoch 15/100\n",
      "8000/8000 [==============================] - 0s 31us/sample - loss: 0.3456 - acc: 0.8596\n",
      "Epoch 16/100\n",
      "8000/8000 [==============================] - 0s 31us/sample - loss: 0.3446 - acc: 0.8590\n",
      "Epoch 17/100\n",
      "8000/8000 [==============================] - 0s 31us/sample - loss: 0.3430 - acc: 0.8589\n",
      "Epoch 18/100\n",
      "8000/8000 [==============================] - 0s 35us/sample - loss: 0.3427 - acc: 0.8591\n",
      "Epoch 19/100\n",
      "8000/8000 [==============================] - 0s 32us/sample - loss: 0.3420 - acc: 0.8606\n",
      "Epoch 20/100\n",
      "8000/8000 [==============================] - 0s 32us/sample - loss: 0.3412 - acc: 0.8612\n",
      "Epoch 21/100\n",
      "8000/8000 [==============================] - 0s 32us/sample - loss: 0.3407 - acc: 0.8597\n",
      "Epoch 22/100\n",
      "8000/8000 [==============================] - 0s 31us/sample - loss: 0.3403 - acc: 0.8611\n",
      "Epoch 23/100\n",
      "8000/8000 [==============================] - 0s 32us/sample - loss: 0.3397 - acc: 0.8620\n",
      "Epoch 24/100\n",
      "8000/8000 [==============================] - 0s 31us/sample - loss: 0.3391 - acc: 0.8627\n",
      "Epoch 25/100\n",
      "8000/8000 [==============================] - 0s 33us/sample - loss: 0.3383 - acc: 0.8618\n",
      "Epoch 26/100\n",
      "8000/8000 [==============================] - 0s 31us/sample - loss: 0.3386 - acc: 0.8618\n",
      "Epoch 27/100\n",
      "8000/8000 [==============================] - 0s 32us/sample - loss: 0.3383 - acc: 0.8622\n",
      "Epoch 28/100\n",
      "8000/8000 [==============================] - 0s 31us/sample - loss: 0.3377 - acc: 0.8630\n",
      "Epoch 29/100\n",
      "8000/8000 [==============================] - 0s 32us/sample - loss: 0.3374 - acc: 0.8634\n",
      "Epoch 30/100\n",
      "8000/8000 [==============================] - 0s 32us/sample - loss: 0.3370 - acc: 0.8619\n",
      "Epoch 31/100\n",
      "8000/8000 [==============================] - 0s 32us/sample - loss: 0.3372 - acc: 0.8624\n",
      "Epoch 32/100\n",
      "8000/8000 [==============================] - 0s 34us/sample - loss: 0.3366 - acc: 0.8620\n",
      "Epoch 33/100\n",
      "8000/8000 [==============================] - 0s 31us/sample - loss: 0.3363 - acc: 0.8629\n",
      "Epoch 34/100\n",
      "8000/8000 [==============================] - 0s 31us/sample - loss: 0.3364 - acc: 0.8631\n",
      "Epoch 35/100\n",
      "8000/8000 [==============================] - 0s 31us/sample - loss: 0.3361 - acc: 0.8625\n",
      "Epoch 36/100\n",
      "8000/8000 [==============================] - 0s 31us/sample - loss: 0.3359 - acc: 0.8634\n",
      "Epoch 37/100\n",
      "8000/8000 [==============================] - 0s 31us/sample - loss: 0.3358 - acc: 0.8630\n",
      "Epoch 38/100\n",
      "8000/8000 [==============================] - 0s 32us/sample - loss: 0.3357 - acc: 0.8640\n",
      "Epoch 39/100\n",
      "8000/8000 [==============================] - 0s 31us/sample - loss: 0.3352 - acc: 0.8627\n",
      "Epoch 40/100\n",
      "8000/8000 [==============================] - 0s 31us/sample - loss: 0.3352 - acc: 0.8634\n",
      "Epoch 41/100\n",
      "8000/8000 [==============================] - 0s 32us/sample - loss: 0.3348 - acc: 0.8626\n",
      "Epoch 42/100\n",
      "8000/8000 [==============================] - 0s 33us/sample - loss: 0.3348 - acc: 0.8622\n",
      "Epoch 43/100\n",
      "8000/8000 [==============================] - 0s 31us/sample - loss: 0.3347 - acc: 0.8635\n",
      "Epoch 44/100\n",
      "8000/8000 [==============================] - 0s 32us/sample - loss: 0.3341 - acc: 0.8629\n",
      "Epoch 45/100\n",
      "8000/8000 [==============================] - 0s 31us/sample - loss: 0.3340 - acc: 0.8639\n",
      "Epoch 46/100\n",
      "8000/8000 [==============================] - 0s 31us/sample - loss: 0.3342 - acc: 0.8634\n",
      "Epoch 47/100\n",
      "8000/8000 [==============================] - 0s 31us/sample - loss: 0.3340 - acc: 0.8629\n",
      "Epoch 48/100\n",
      "8000/8000 [==============================] - 0s 31us/sample - loss: 0.3335 - acc: 0.8629\n",
      "Epoch 49/100\n",
      "8000/8000 [==============================] - 0s 31us/sample - loss: 0.3337 - acc: 0.8641\n",
      "Epoch 50/100\n",
      "8000/8000 [==============================] - 0s 32us/sample - loss: 0.3335 - acc: 0.86270s - loss: 0.3370 - acc: 0.\n",
      "Epoch 51/100\n",
      "8000/8000 [==============================] - 0s 31us/sample - loss: 0.3335 - acc: 0.8637\n",
      "Epoch 52/100\n",
      "8000/8000 [==============================] - 0s 32us/sample - loss: 0.3332 - acc: 0.8640\n",
      "Epoch 53/100\n",
      "8000/8000 [==============================] - 0s 32us/sample - loss: 0.3330 - acc: 0.8643\n",
      "Epoch 54/100\n",
      "8000/8000 [==============================] - 0s 32us/sample - loss: 0.3327 - acc: 0.8634\n",
      "Epoch 55/100\n",
      "8000/8000 [==============================] - 0s 32us/sample - loss: 0.3330 - acc: 0.8641\n",
      "Epoch 56/100\n",
      "8000/8000 [==============================] - 0s 32us/sample - loss: 0.3330 - acc: 0.8640\n",
      "Epoch 57/100\n",
      "8000/8000 [==============================] - 0s 32us/sample - loss: 0.3326 - acc: 0.8651\n",
      "Epoch 58/100\n",
      "8000/8000 [==============================] - 0s 32us/sample - loss: 0.3326 - acc: 0.8641\n",
      "Epoch 59/100\n",
      "8000/8000 [==============================] - 0s 31us/sample - loss: 0.3327 - acc: 0.8645\n",
      "Epoch 60/100\n",
      "8000/8000 [==============================] - 0s 31us/sample - loss: 0.3324 - acc: 0.8630\n",
      "Epoch 61/100\n",
      "8000/8000 [==============================] - 0s 32us/sample - loss: 0.3322 - acc: 0.8646\n",
      "Epoch 62/100\n",
      "8000/8000 [==============================] - 0s 31us/sample - loss: 0.3321 - acc: 0.8644\n",
      "Epoch 63/100\n",
      "8000/8000 [==============================] - 0s 31us/sample - loss: 0.3318 - acc: 0.8650\n",
      "Epoch 64/100\n",
      "8000/8000 [==============================] - 0s 31us/sample - loss: 0.3319 - acc: 0.8649\n",
      "Epoch 65/100\n",
      "8000/8000 [==============================] - 0s 32us/sample - loss: 0.3322 - acc: 0.8655\n",
      "Epoch 66/100\n",
      "8000/8000 [==============================] - 0s 32us/sample - loss: 0.3319 - acc: 0.8646\n",
      "Epoch 67/100\n",
      "8000/8000 [==============================] - 0s 31us/sample - loss: 0.3317 - acc: 0.8655\n",
      "Epoch 68/100\n",
      "8000/8000 [==============================] - 0s 31us/sample - loss: 0.3316 - acc: 0.8654\n",
      "Epoch 69/100\n",
      "8000/8000 [==============================] - 0s 35us/sample - loss: 0.3312 - acc: 0.8649\n",
      "Epoch 70/100\n",
      "8000/8000 [==============================] - 0s 42us/sample - loss: 0.3314 - acc: 0.8652\n",
      "Epoch 71/100\n",
      "8000/8000 [==============================] - 0s 34us/sample - loss: 0.3312 - acc: 0.8659\n",
      "Epoch 72/100\n",
      "8000/8000 [==============================] - 0s 32us/sample - loss: 0.3311 - acc: 0.8655\n",
      "Epoch 73/100\n",
      "8000/8000 [==============================] - 0s 31us/sample - loss: 0.3314 - acc: 0.8655\n",
      "Epoch 74/100\n",
      "8000/8000 [==============================] - 0s 31us/sample - loss: 0.3311 - acc: 0.8660\n",
      "Epoch 75/100\n",
      "8000/8000 [==============================] - 0s 32us/sample - loss: 0.3313 - acc: 0.8651\n",
      "Epoch 76/100\n",
      "8000/8000 [==============================] - 0s 32us/sample - loss: 0.3312 - acc: 0.8651\n",
      "Epoch 77/100\n",
      "8000/8000 [==============================] - 0s 32us/sample - loss: 0.3308 - acc: 0.8645\n",
      "Epoch 78/100\n",
      "8000/8000 [==============================] - 0s 32us/sample - loss: 0.3311 - acc: 0.8641\n",
      "Epoch 79/100\n",
      "8000/8000 [==============================] - 0s 32us/sample - loss: 0.3311 - acc: 0.8641\n",
      "Epoch 80/100\n",
      "8000/8000 [==============================] - 0s 32us/sample - loss: 0.3309 - acc: 0.8645\n",
      "Epoch 81/100\n"
     ]
    },
    {
     "name": "stdout",
     "output_type": "stream",
     "text": [
      "8000/8000 [==============================] - 0s 33us/sample - loss: 0.3305 - acc: 0.8649\n",
      "Epoch 82/100\n",
      "8000/8000 [==============================] - 0s 37us/sample - loss: 0.3308 - acc: 0.8641\n",
      "Epoch 83/100\n",
      "8000/8000 [==============================] - 0s 32us/sample - loss: 0.3307 - acc: 0.8645\n",
      "Epoch 84/100\n",
      "8000/8000 [==============================] - 0s 32us/sample - loss: 0.3308 - acc: 0.8666\n",
      "Epoch 85/100\n",
      "8000/8000 [==============================] - 0s 31us/sample - loss: 0.3304 - acc: 0.8649\n",
      "Epoch 86/100\n",
      "8000/8000 [==============================] - 0s 32us/sample - loss: 0.3305 - acc: 0.8648\n",
      "Epoch 87/100\n",
      "8000/8000 [==============================] - 0s 32us/sample - loss: 0.3302 - acc: 0.8656\n",
      "Epoch 88/100\n",
      "8000/8000 [==============================] - 0s 33us/sample - loss: 0.3305 - acc: 0.8645\n",
      "Epoch 89/100\n",
      "8000/8000 [==============================] - 0s 33us/sample - loss: 0.3303 - acc: 0.8640\n",
      "Epoch 90/100\n",
      "8000/8000 [==============================] - 0s 32us/sample - loss: 0.3306 - acc: 0.8650\n",
      "Epoch 91/100\n",
      "8000/8000 [==============================] - 0s 31us/sample - loss: 0.3304 - acc: 0.8646\n",
      "Epoch 92/100\n",
      "8000/8000 [==============================] - 0s 32us/sample - loss: 0.3304 - acc: 0.8652\n",
      "Epoch 93/100\n",
      "8000/8000 [==============================] - 0s 37us/sample - loss: 0.3304 - acc: 0.8650\n",
      "Epoch 94/100\n",
      "8000/8000 [==============================] - 0s 31us/sample - loss: 0.3303 - acc: 0.8658\n",
      "Epoch 95/100\n",
      "8000/8000 [==============================] - 0s 31us/sample - loss: 0.3304 - acc: 0.8654\n",
      "Epoch 96/100\n",
      "8000/8000 [==============================] - 0s 31us/sample - loss: 0.3304 - acc: 0.8649\n",
      "Epoch 97/100\n",
      "8000/8000 [==============================] - 0s 30us/sample - loss: 0.3295 - acc: 0.8659\n",
      "Epoch 98/100\n",
      "8000/8000 [==============================] - 0s 31us/sample - loss: 0.3305 - acc: 0.8664\n",
      "Epoch 99/100\n",
      "8000/8000 [==============================] - 0s 31us/sample - loss: 0.3303 - acc: 0.8643\n",
      "Epoch 100/100\n",
      "8000/8000 [==============================] - 0s 33us/sample - loss: 0.3301 - acc: 0.8650\n"
     ]
    },
    {
     "data": {
      "text/plain": [
       "<tensorflow.python.keras.callbacks.History at 0x7f990aba88d0>"
      ]
     },
     "execution_count": 18,
     "metadata": {},
     "output_type": "execute_result"
    }
   ],
   "source": [
    "ann.fit(X_train, y_train, batch_size = 32, epochs = 100)"
   ]
  },
  {
   "cell_type": "markdown",
   "metadata": {
    "colab_type": "text",
    "id": "tJj5k2MxZga3"
   },
   "source": [
    "## 5. Making the predictions and evaluating the model"
   ]
  },
  {
   "cell_type": "markdown",
   "metadata": {
    "colab_type": "text",
    "id": "u7yx47jPZt11"
   },
   "source": [
    "#### 5.1. Predicting the Test set results"
   ]
  },
  {
   "cell_type": "code",
   "execution_count": 19,
   "metadata": {
    "colab": {
     "base_uri": "https://localhost:8080/",
     "height": 134
    },
    "colab_type": "code",
    "executionInfo": {
     "elapsed": 31748,
     "status": "ok",
     "timestamp": 1586428405581,
     "user": {
      "displayName": "Hadelin de Ponteves",
      "photoUrl": "https://lh3.googleusercontent.com/a-/AOh14GhEuXdT7eQweUmRPW8_laJuPggSK6hfvpl5a6WBaA=s64",
      "userId": "15047218817161520419"
     },
     "user_tz": -240
    },
    "id": "nIyEeQdRZwgs",
    "outputId": "a0f4d9ad-9a29-41dc-b101-9e7216d74dc0"
   },
   "outputs": [
    {
     "name": "stdout",
     "output_type": "stream",
     "text": [
      "[[0 0]\n",
      " [0 1]\n",
      " [0 0]\n",
      " ...\n",
      " [0 0]\n",
      " [0 0]\n",
      " [0 0]]\n"
     ]
    }
   ],
   "source": [
    "y_pred = ann.predict(X_test)\n",
    "y_pred = (y_pred > 0.5)\n",
    "print(np.concatenate((y_pred.reshape(len(y_pred),1), y_test.reshape(len(y_test),1)),1))"
   ]
  },
  {
   "cell_type": "markdown",
   "metadata": {
    "colab_type": "text",
    "id": "o0oyfLWoaEGw"
   },
   "source": [
    "#### 5.2. Making the Confusion Matrix"
   ]
  },
  {
   "cell_type": "code",
   "execution_count": 20,
   "metadata": {
    "colab": {
     "base_uri": "https://localhost:8080/",
     "height": 50
    },
    "colab_type": "code",
    "executionInfo": {
     "elapsed": 31746,
     "status": "ok",
     "timestamp": 1586428405581,
     "user": {
      "displayName": "Hadelin de Ponteves",
      "photoUrl": "https://lh3.googleusercontent.com/a-/AOh14GhEuXdT7eQweUmRPW8_laJuPggSK6hfvpl5a6WBaA=s64",
      "userId": "15047218817161520419"
     },
     "user_tz": -240
    },
    "id": "ci6K_r6LaF6P",
    "outputId": "09bd315f-7091-457f-b222-ce3998de57a5"
   },
   "outputs": [
    {
     "name": "stdout",
     "output_type": "stream",
     "text": [
      "[[1509   86]\n",
      " [ 195  210]]\n"
     ]
    }
   ],
   "source": [
    "cm = confusion_matrix(y_test, y_pred)\n",
    "print(cm)"
   ]
  },
  {
   "cell_type": "code",
   "execution_count": null,
   "metadata": {},
   "outputs": [],
   "source": []
  }
 ],
 "metadata": {
  "colab": {
   "authorship_tag": "ABX9TyMwbl0jJoa05wuIU59y39H3",
   "collapsed_sections": [],
   "name": "Artificial Neural Network",
   "provenance": []
  },
  "kernelspec": {
   "display_name": "Python 3",
   "language": "python",
   "name": "python3"
  },
  "language_info": {
   "codemirror_mode": {
    "name": "ipython",
    "version": 3
   },
   "file_extension": ".py",
   "mimetype": "text/x-python",
   "name": "python",
   "nbconvert_exporter": "python",
   "pygments_lexer": "ipython3",
   "version": "3.6.4"
  }
 },
 "nbformat": 4,
 "nbformat_minor": 1
}
